{
 "cells": [
  {
   "cell_type": "markdown",
   "id": "b4b54ff2-2c74-481c-ac34-b21b87dcbf5c",
   "metadata": {},
   "source": [
    "# Лабораторная работа 1\n",
    "# Задача о падении тела. Построение графиков функций"
   ]
  },
  {
   "cell_type": "markdown",
   "id": "218ea2de-1d48-4b07-99d5-7d3bb3719cb2",
   "metadata": {},
   "source": [
    "Домаш Иван Дмитриевич, 12.02.2025"
   ]
  },
  {
   "cell_type": "markdown",
   "id": "d9c08906-7485-479b-8503-9267f32e2319",
   "metadata": {},
   "source": [
    "# Задание 1.1. Задача о падении тела"
   ]
  },
  {
   "cell_type": "markdown",
   "id": "36ceb75d-371f-468a-8fe4-fef08f3f8d83",
   "metadata": {},
   "source": [
    "**Описание процесса**.\n",
    "Тело запущено под углом $\\alpha$ к горизонту на высоте $h_{start}$ и через\n",
    "время $t=T$ достигает другое тело, расположенное на расстоянии $s_{end}$ и\n",
    "высоте $h_{end}$.\n",
    "\n",
    "**Предположения**.\n",
    "- Тело будем считать материальной точкой массы $m$.\n",
    "- Движение запущенного тела осуществляется только под действием силы\n",
    "тяжести $${\\bf F} = m (0,-g),$$ где $m$ -- масса тела, $g$ -- ускорение\n",
    "свободного падения.\n",
    "- Сопротивлением среды пренебрегаем.\n",
    "\n",
    "**Данные**.\n",
    "- Задача рассматривается при при следующих значениях параметров: $h_{start} =  $ 1 m , $h_{end} =  $ 3 m, $T = $ 3 s,  $s_{end} = $ 5 m.\n",
    "- угол запуска тела  $\\alpha$ не известен.\n",
    "- Начальный момент времени движения тела полагаем равным нулю: $t=$ 0.\n",
    "- Значение массы $m$ тела не повлияет на функции перемещения тела.\n",
    "\n",
    "**Задания для выполнения**.\n",
    "- $\\color{red}\\text{Определите}$ функцию перемещения тела $(s_{x}(t),s_{y}(t)) $ под действием силы тяжести, где $s_{x}(t),s_{y}(t)$ $-$ горизонтальная и вертикальная\n",
    "составляющая положения тела в момент времени $t$, соответственно.\n",
    "\n",
    "- $\\color{red}\\text{Найдите}$  угол запуска тела $\\alpha$.\n",
    "- $\\color{red}\\text{Постройте}$ график траектории движения тела $(s_{x}(t),s_{y}(t)) $ для $t \\in [0, T] $\n"
   ]
  },
  {
   "cell_type": "markdown",
   "id": "7dc8ad60-d5c4-4ff0-abfa-b99f2f6add5f",
   "metadata": {},
   "source": [
    "# Выполнение Задания 1.1\n",
    "## Этап 1. Импортирование модулей\n",
    "Импортируем модуль `math` с математическими функциями из стандартной\n",
    "библиотеки:\n"
   ]
  },
  {
   "cell_type": "code",
   "execution_count": 70,
   "id": "cb3a4537-e23c-4138-94c3-efb7d5535315",
   "metadata": {},
   "outputs": [],
   "source": [
    "import math"
   ]
  },
  {
   "cell_type": "markdown",
   "id": "b87a4e62-6f0d-4c54-b5c5-93eeb0764329",
   "metadata": {},
   "source": [
    "Импортируем расширение `numpy` и создадим псевдоним `np` для доступа к\n",
    "инструментам модуля, не используя имя `numpy`"
   ]
  },
  {
   "cell_type": "code",
   "execution_count": 71,
   "id": "62232d2d-9a53-481f-b2d5-d6d910ddd21c",
   "metadata": {},
   "outputs": [
    {
     "name": "stdout",
     "output_type": "stream",
     "text": [
      "Requirement already satisfied: numpy in c:\\users\\user\\appdata\\local\\programs\\python\\python313\\lib\\site-packages (2.2.3)\n",
      "Note: you may need to restart the kernel to use updated packages.\n"
     ]
    }
   ],
   "source": [
    "%pip install numpy\n",
    "\n",
    "import numpy as np "
   ]
  },
  {
   "cell_type": "markdown",
   "id": "3de91ec7-0816-422b-9e6e-7b8680115e60",
   "metadata": {},
   "source": [
    "Расширение `numpy` основано на работе со структурой данных массив `( ndarray )`.\n",
    "Массив `( ndarray )` не является встроенным типом данных Python, он является\n",
    "базовым типом расширения `numpy` .\n",
    "Импортируем модуль `pyplot` из пакета `matplotlib` для построения графиков.\n",
    "Для этого примененим синтаксис `<имя пакета>.<имя модуля в пакете>` и\n",
    "создадим псевдоним имени модуля `plt`\n"
   ]
  },
  {
   "cell_type": "code",
   "execution_count": 72,
   "id": "3eb8e51b-8ac9-46ff-aa34-f1e5b63913bb",
   "metadata": {},
   "outputs": [
    {
     "name": "stdout",
     "output_type": "stream",
     "text": [
      "Requirement already satisfied: pip in c:\\users\\user\\appdata\\local\\programs\\python\\python313\\lib\\site-packages (25.0.1)\n",
      "Note: you may need to restart the kernel to use updated packages.\n",
      "Requirement already satisfied: matplotlib in c:\\users\\user\\appdata\\roaming\\python\\python313\\site-packages (3.10.0)\n",
      "Requirement already satisfied: contourpy>=1.0.1 in c:\\users\\user\\appdata\\roaming\\python\\python313\\site-packages (from matplotlib) (1.3.1)\n",
      "Requirement already satisfied: cycler>=0.10 in c:\\users\\user\\appdata\\roaming\\python\\python313\\site-packages (from matplotlib) (0.12.1)\n",
      "Requirement already satisfied: fonttools>=4.22.0 in c:\\users\\user\\appdata\\roaming\\python\\python313\\site-packages (from matplotlib) (4.56.0)\n",
      "Requirement already satisfied: kiwisolver>=1.3.1 in c:\\users\\user\\appdata\\roaming\\python\\python313\\site-packages (from matplotlib) (1.4.8)\n",
      "Requirement already satisfied: numpy>=1.23 in c:\\users\\user\\appdata\\local\\programs\\python\\python313\\lib\\site-packages (from matplotlib) (2.2.3)\n",
      "Requirement already satisfied: packaging>=20.0 in c:\\users\\user\\appdata\\roaming\\python\\python313\\site-packages (from matplotlib) (24.2)\n",
      "Requirement already satisfied: pillow>=8 in c:\\users\\user\\appdata\\roaming\\python\\python313\\site-packages (from matplotlib) (11.1.0)\n",
      "Requirement already satisfied: pyparsing>=2.3.1 in c:\\users\\user\\appdata\\roaming\\python\\python313\\site-packages (from matplotlib) (3.2.1)\n",
      "Requirement already satisfied: python-dateutil>=2.7 in c:\\users\\user\\appdata\\roaming\\python\\python313\\site-packages (from matplotlib) (2.9.0.post0)\n",
      "Requirement already satisfied: six>=1.5 in c:\\users\\user\\appdata\\roaming\\python\\python313\\site-packages (from python-dateutil>=2.7->matplotlib) (1.17.0)\n",
      "Note: you may need to restart the kernel to use updated packages.\n"
     ]
    }
   ],
   "source": [
    "\n",
    "%pip install --upgrade pip\n",
    "%pip install --user matplotlib\n",
    "\n",
    "import matplotlib.pyplot as plt"
   ]
  },
  {
   "cell_type": "markdown",
   "id": "39aab268-dcb1-4912-9c41-502ca512d48d",
   "metadata": {},
   "source": [
    "Импортируем модуль constants из пакета расширений `scipy` с псевдонимом\n",
    "`const` . Модуль constants предоставляет доступ к значениям физических\n",
    "констант\n"
   ]
  },
  {
   "cell_type": "code",
   "execution_count": 73,
   "id": "e860b969-4f4b-43db-a1e3-08eaf673cd76",
   "metadata": {},
   "outputs": [
    {
     "name": "stdout",
     "output_type": "stream",
     "text": [
      "Requirement already satisfied: scipy in c:\\users\\user\\appdata\\local\\programs\\python\\python313\\lib\\site-packages (1.15.2)\n",
      "Requirement already satisfied: numpy<2.5,>=1.23.5 in c:\\users\\user\\appdata\\local\\programs\\python\\python313\\lib\\site-packages (from scipy) (2.2.3)\n",
      "Note: you may need to restart the kernel to use updated packages.\n"
     ]
    }
   ],
   "source": [
    "%pip install scipy\n",
    "import scipy.constants as const\n"
   ]
  },
  {
   "cell_type": "markdown",
   "id": "e66174f5-3ea5-482d-8171-b14a877fab75",
   "metadata": {},
   "source": [
    "Импортируем модуль `sympy` для символьных вычислений в Python"
   ]
  },
  {
   "cell_type": "code",
   "execution_count": 74,
   "id": "84888cda-808a-4490-b18b-c18b0400500b",
   "metadata": {},
   "outputs": [
    {
     "name": "stdout",
     "output_type": "stream",
     "text": [
      "Requirement already satisfied: sympy in c:\\users\\user\\appdata\\local\\programs\\python\\python313\\lib\\site-packages (1.13.3)\n",
      "Requirement already satisfied: mpmath<1.4,>=1.1.0 in c:\\users\\user\\appdata\\local\\programs\\python\\python313\\lib\\site-packages (from sympy) (1.3.0)\n",
      "Note: you may need to restart the kernel to use updated packages.\n"
     ]
    }
   ],
   "source": [
    "%pip install sympy\n",
    "import sympy\n"
   ]
  },
  {
   "cell_type": "markdown",
   "id": "0de703b1-aa67-42e3-96b3-8a37ffdfd7d5",
   "metadata": {},
   "source": [
    "## Этап 2. Создание переменных\n",
    "**Переменные** создаются при первом присваивании им значений. Слева от\n",
    "оператора присваивания ( `=` ) записывается переменная, справа — выражение,\n",
    "результатом вычисления которого является объект: `переменная = объект `. Имена\n",
    "переменных рекомендовано задавать в нижнем регистре с использованием знака\n",
    "нижнего подчеркивания для смыслового разделения имени на части, например\n",
    "`first_variable = 1` . Объявлять переменные перед их инициализацией не нужно"
   ]
  },
  {
   "cell_type": "code",
   "execution_count": 75,
   "id": "4287dec4-11a1-4a11-b534-489ec858dfe5",
   "metadata": {},
   "outputs": [],
   "source": [
    "h_start = 1 # вертикальная составляющая положения тела в момент запуска\n",
    "h_end = 3.0E+0 # вертикальная составляющая положения тела в конечный момент движ\n",
    "T = 3.0 # время полета\n",
    "s_end = 5.0e0 "
   ]
  },
  {
   "cell_type": "markdown",
   "id": "34e0aba3-66c9-4f2f-9d16-50db25148aad",
   "metadata": {},
   "source": [
    "Отобразить значение переменной можно, указав ее имя в ячейке ввода в\n",
    "последней строке или с использованием встроенной функции `print`\n"
   ]
  },
  {
   "cell_type": "code",
   "execution_count": 76,
   "id": "e78ec376-b669-44b6-bd41-e4924675714a",
   "metadata": {},
   "outputs": [
    {
     "name": "stdout",
     "output_type": "stream",
     "text": [
      "1 3.0\n"
     ]
    }
   ],
   "source": [
    "print(h_start, h_end)\n"
   ]
  },
  {
   "cell_type": "markdown",
   "id": "7a43a526-d2fe-4ecb-b9df-e4677c085b4e",
   "metadata": {},
   "source": [
    "Определим значение ускорения свободного падения для дальнейших расчетов:"
   ]
  },
  {
   "cell_type": "code",
   "execution_count": 77,
   "id": "4a13ef5f-d1eb-4c01-951f-a2b6c7c4f793",
   "metadata": {},
   "outputs": [
    {
     "data": {
      "text/plain": [
       "(9.80665, 'm s^-2')"
      ]
     },
     "execution_count": 77,
     "metadata": {},
     "output_type": "execute_result"
    }
   ],
   "source": [
    "g = const.g\n",
    "g, const.unit('standard acceleration of gravity')"
   ]
  },
  {
   "cell_type": "markdown",
   "id": "32cbcb9b-4a4d-497f-84e3-972767c94085",
   "metadata": {},
   "source": [
    "$\\color{red}\\text{Привожу}$ несколько примеров физических констант из модуля\n",
    "`constants` пакета расширений `scipy`:"
   ]
  },
  {
   "cell_type": "code",
   "execution_count": 78,
   "id": "4d251345-ee93-4e8e-8a50-1323cf34a231",
   "metadata": {},
   "outputs": [
    {
     "data": {
      "text/plain": [
       "299792458.0"
      ]
     },
     "execution_count": 78,
     "metadata": {},
     "output_type": "execute_result"
    }
   ],
   "source": [
    "c = const.c\n",
    "c"
   ]
  },
  {
   "cell_type": "code",
   "execution_count": 79,
   "id": "1ac04907-a546-4bb0-9185-c72e631bba65",
   "metadata": {},
   "outputs": [
    {
     "data": {
      "text/plain": [
       "6.6743e-11"
      ]
     },
     "execution_count": 79,
     "metadata": {},
     "output_type": "execute_result"
    }
   ],
   "source": [
    "G = const.G\n",
    "G\n"
   ]
  },
  {
   "cell_type": "markdown",
   "id": "2b3df2dc-2b36-4307-a2bb-d88ecc4b5f2e",
   "metadata": {},
   "source": [
    "Временной отрезок $[0, T]$ представим в виде последовательности чисел. Cоздадим\n",
    "последовательность равномерно распределенных чисел на отрезке $[0, T]$  с шагом\n",
    "0.01 двумя способами: на основе встроенного типа список ( `list` ) и на основе\n",
    "массива ( `ndarray` ) из расширения `numpy`"
   ]
  },
  {
   "cell_type": "code",
   "execution_count": 80,
   "id": "176a795d-3590-42ae-bb15-a4483eef25cb",
   "metadata": {},
   "outputs": [],
   "source": [
    "step = 0.01\n",
    "t_list = [0 + i*step for i in range(int(T/0.01))]\n",
    "t_array = np.arange(0,T,step) "
   ]
  },
  {
   "cell_type": "markdown",
   "id": "5bc9faaf-cd76-44da-97fe-8278a1f7a6a6",
   "metadata": {},
   "source": [
    "$\\color{red}\\text{Сформулируем}$ Спецификации range и arange:\n",
    "$range([start], stop, [step])\n",
    "numpy.arange([start, ]stop, [step, ]dtype=None, *, like=None)\n",
    "$ `arange` используетсся для чисел с плавающей точкой\n",
    "Примеры:"
   ]
  },
  {
   "cell_type": "code",
   "execution_count": 81,
   "id": "1c857231-2e1d-4e52-889e-cca8dddbcee3",
   "metadata": {},
   "outputs": [
    {
     "name": "stdout",
     "output_type": "stream",
     "text": [
      "[0, 1, 2, 3, 4]\n"
     ]
    }
   ],
   "source": [
    "print(list(range(5))) "
   ]
  },
  {
   "cell_type": "code",
   "execution_count": 82,
   "id": "ef4aef8a-f931-4344-b4f8-2ad6b76377f2",
   "metadata": {},
   "outputs": [
    {
     "name": "stdout",
     "output_type": "stream",
     "text": [
      "[1.  1.1 1.2 1.3 1.4 1.5 1.6 1.7 1.8 1.9]\n"
     ]
    }
   ],
   "source": [
    "print(np.arange(1.0, 2.0, 0.1))"
   ]
  },
  {
   "cell_type": "markdown",
   "id": "019f0d87-0592-40de-a949-ee23d707b75b",
   "metadata": {},
   "source": [
    "*Запоминаем*, что после создания списка ( `list` ) его размер изменить можно, после\n",
    "создания массива ( `ndarray` ) его размер изменить нельзя.\n"
   ]
  },
  {
   "cell_type": "markdown",
   "id": "587f2454-4db9-4b33-b5db-298715043ae7",
   "metadata": {},
   "source": [
    "## Этап 3. Определение функции перемещения и нахождение угла запуска тела"
   ]
  },
  {
   "cell_type": "markdown",
   "id": "4aaeac24-6af5-46f6-b63d-367c60eec891",
   "metadata": {},
   "source": [
    "$\\color{red}\\text{Напишем}$ подробно, как из второго закона Ньютона и начальных\n",
    "условий получен аналитический вид функции перемещения $(s_{x}(t),s_{y}(t)) $.\n",
    "\n",
    "Полагаем, что начало прямоугольной декартовой системы координат соответствует\n",
    "уровню земли. Тогда в начальный момент движения тела $t$ = 0 имеем, что:\n",
    "\n",
    "$s_{x}(0) = 0,s_{y}(0) = h_{start} $\n",
    "\n",
    "Для построения функции перемещения $(s_{x}(t),s_{y}(t)) $ воспользуемся вторым\n",
    "законом Ньютона:\n",
    "\n",
    "$F = ma$,\n",
    "\n",
    "где $m$ - масса тела, ускорение движения тела $а = (s_{x}''(t),s_{y}''(t))$ и приложенная сила $F = m(0, -g)$ . В результате имеем два уравнения, что \n",
    "\n",
    "\n",
    " $s_{x}''(t) = 0,s_{y}''(t) = -g$\n",
    "\n",
    "\n",
    "На основании уравнений с учетом начальных условий можно записать\n",
    "аналитический вид  функций:\n",
    "\n",
    "\n",
    "$s_{x}(t) = s_{x}(0) + v0_{x}t = 0 + v0_{x}t$\n",
    "\n",
    "$s_{y}(t) = s_{y}(0) + v0_{y}t - \\frac{g}{2} t^2 = h_{start} + v0_{y}t - \\frac{g}{2} t^2 $\n"
   ]
  },
  {
   "cell_type": "markdown",
   "id": "aaa9c5cd-a4f3-42ec-974d-7f7cb94da5cd",
   "metadata": {},
   "source": [
    "Из условия задачи имеем, что $s_{x}(T) = s_{end}$. Из этого соотношения находим значение для $v0_{x}$"
   ]
  },
  {
   "cell_type": "code",
   "execution_count": 83,
   "id": "7fc19a5b-4ba2-4fef-9ac1-ba85c28c744c",
   "metadata": {},
   "outputs": [
    {
     "data": {
      "text/plain": [
       "1.6666666666666667"
      ]
     },
     "execution_count": 83,
     "metadata": {},
     "output_type": "execute_result"
    }
   ],
   "source": [
    "v0_x = s_end/T\n",
    "v0_x\n"
   ]
  },
  {
   "cell_type": "markdown",
   "id": "45089521-c74d-4226-9c16-c21b7e8fc29a",
   "metadata": {},
   "source": [
    "Из условия задачи имеем, что $s_{y}(T) = s_{end}$. Из этого соотношения находим значение для $v0_{y}$"
   ]
  },
  {
   "cell_type": "code",
   "execution_count": 84,
   "id": "c565dc3f-5402-447c-bafa-c7f202f6f6db",
   "metadata": {},
   "outputs": [
    {
     "data": {
      "text/plain": [
       "15.376641666666666"
      ]
     },
     "execution_count": 84,
     "metadata": {},
     "output_type": "execute_result"
    }
   ],
   "source": [
    "v0_y = (h_end-h_start+g/2*T**2)/T\n",
    "v0_y"
   ]
  },
  {
   "cell_type": "markdown",
   "id": "ecceefeb-3f2c-455a-9791-265a0b030110",
   "metadata": {},
   "source": [
    "Значение угла запуска тела определяем из соотношения $ tan \\alpha = \\frac{v0_{y}}{v0_{x}}$"
   ]
  },
  {
   "cell_type": "code",
   "execution_count": 85,
   "id": "6c770b9c-3d08-439c-8f1d-974c97b2ea23",
   "metadata": {},
   "outputs": [
    {
     "data": {
      "text/plain": [
       "(1.462828312588189, 83.81388846354714)"
      ]
     },
     "execution_count": 85,
     "metadata": {},
     "output_type": "execute_result"
    }
   ],
   "source": [
    "alpha = math.atan(v0_y/v0_x)\n",
    "alpha, math.degrees(alpha)\n"
   ]
  },
  {
   "cell_type": "markdown",
   "id": "959b3741-944b-489a-b631-3077891e0a33",
   "metadata": {},
   "source": [
    "Результирующая функция перемещения имеет следующий вид\n"
   ]
  },
  {
   "cell_type": "code",
   "execution_count": 86,
   "id": "e07b35ba-1663-447e-bc34-0e259b50697e",
   "metadata": {},
   "outputs": [
    {
     "data": {
      "text/plain": [
       "'s_x(t) = 1.6666666666666667 t'"
      ]
     },
     "execution_count": 86,
     "metadata": {},
     "output_type": "execute_result"
    }
   ],
   "source": [
    "f's_x(t) = {v0_x} t'"
   ]
  },
  {
   "cell_type": "code",
   "execution_count": 87,
   "id": "84f0d474-ef0b-4913-9857-bb5577fe074e",
   "metadata": {},
   "outputs": [
    {
     "data": {
      "text/plain": [
       "'s_y(t) = 1 + 15.3766 t - 9.80665/2*t²'"
      ]
     },
     "execution_count": 87,
     "metadata": {},
     "output_type": "execute_result"
    }
   ],
   "source": [
    "f's_y(t) = {h_start} + {v0_y:.6} t - {g:.6}/2*t\\N{superscript two}'"
   ]
  },
  {
   "cell_type": "markdown",
   "id": "5c670670-99b9-4e2a-9124-0299366f4ddb",
   "metadata": {},
   "source": [
    "## Этап 4. Построение графика траектории движения тела"
   ]
  },
  {
   "cell_type": "markdown",
   "id": "713a227f-d5f1-4db8-a1f7-09974f3bffc6",
   "metadata": {},
   "source": [
    "Построение графиков функций осуществляется по координатам точек графика. Для\n",
    "этого нужно создать последовательность значений $x$-координат точек графика функции и последовательность соответствующих значений $y$-координат точек\n",
    "графика функции. На Этапе 2 было создано две последовательности равномерно распределенных\n",
    "чисел на отрезке$[0, T]$ с шагом 0.01 для переменной времени $t$\n"
   ]
  },
  {
   "cell_type": "code",
   "execution_count": 88,
   "id": "2a4e6770-a25e-42c6-9f2c-ce51faa9b98c",
   "metadata": {},
   "outputs": [],
   "source": [
    "t_list, t_array;"
   ]
  },
  {
   "cell_type": "markdown",
   "id": "4c77d96b-fa5b-41c6-8a47-b8ba282b4a3c",
   "metadata": {},
   "source": [
    "Определим списки чисел, соответствующие горизонтальным и вертикальным\n",
    "составляющим положения тела в моменты времени `t_list` с использованием\n",
    "формул, полученных на Этапе 3:"
   ]
  },
  {
   "cell_type": "code",
   "execution_count": 89,
   "id": "5e9e142b-8375-4cf6-8630-cc0776252399",
   "metadata": {},
   "outputs": [],
   "source": [
    "s_x_list = [v0_x*t for t in t_list]\n",
    "s_y_list = [h_start+v0_y*t-g*t**2/2 for t in t_list]"
   ]
  },
  {
   "cell_type": "markdown",
   "id": "6e1fd787-489c-4558-a0ff-4cfa3151c2f9",
   "metadata": {},
   "source": [
    "Определим массивы чисел, соответствующие горизонтальным и вертикальным\n",
    "составляющим положения тела в момент времени `t_array` :"
   ]
  },
  {
   "cell_type": "code",
   "execution_count": 90,
   "id": "6dbe3c25-9a03-431a-abdf-2c26ee60eff2",
   "metadata": {},
   "outputs": [],
   "source": [
    "s_x_array = v0_x*t_array\n",
    "s_y_array = h_start+v0_y*t_array-g*t_array**2/2"
   ]
  },
  {
   "cell_type": "markdown",
   "id": "23c1bd98-a77b-4438-8178-138e40aa3dab",
   "metadata": {},
   "source": [
    "*Обратим внимание*, что арифметические действия ( +, -,* , /, **) с массивами\n",
    "`ndarray` выполняются **поэлементно** без использования дополнительного\n",
    "синтаксиса.\n",
    "\n",
    "Строим график траектории движения тела, используя инструменты модуля `pyplot`\n",
    "пакета `matplotlib` . Смотрите **Help | Matplotlib Reference** для справочной\n",
    "информации по используемым функциям: `figure` , `plot` , `title` , `xlabel` ,\n",
    "`ylabel` , `axis` , `xlim` , `ylim` .\n"
   ]
  },
  {
   "cell_type": "code",
   "execution_count": 91,
   "id": "5e5392e7-0bc9-43d3-978b-b7221c85b536",
   "metadata": {},
   "outputs": [
    {
     "data": {
      "text/plain": [
       "(np.float64(0.0), np.float64(5.0), np.float64(0.0), np.float64(14.0))"
      ]
     },
     "execution_count": 91,
     "metadata": {},
     "output_type": "execute_result"
    },
    {
     "data": {
      "image/png": "[encoded data removed]",
      "text/plain": [
       "<Figure size 640x480 with 1 Axes>"
      ]
     },
     "metadata": {},
     "output_type": "display_data"
    }
   ],
   "source": [
    "\n",
    "\n",
    "\n",
    "plt.figure()\n",
    "plt.plot(s_x_list,s_y_list,'b-',lw=5)\n",
    "plt.title('Вертикальное перемещение тела')\n",
    "plt.xlabel('x (m)'); plt.ylabel('y (m)') # символ ; позволяет записывать несколь\n",
    "plt.axis([0, s_end, 0, h_end+11])\n"
   ]
  },
  {
   "cell_type": "markdown",
   "id": "80642230-f0f5-416b-ab44-38b196483afd",
   "metadata": {},
   "source": [
    "При вызове функции `plot` из `pyplot` можно использовать как списки, так и\n",
    "массивы."
   ]
  },
  {
   "cell_type": "code",
   "execution_count": 92,
   "id": "b82c8ecf-f730-4e77-b40e-0ac79538fd30",
   "metadata": {},
   "outputs": [
    {
     "data": {
      "image/png": "[encoded data removed]",
      "text/plain": [
       "<Figure size 640x480 with 1 Axes>"
      ]
     },
     "metadata": {},
     "output_type": "display_data"
    }
   ],
   "source": [
    "plt.figure()\n",
    "plt.plot(s_x_array,s_y_array,color='green',lw=3)\n",
    "plt.title('Вертикальное перемещение тела')\n",
    "plt.xlabel('x (m)'); plt.ylabel('y (m)')\n",
    "# альтернативный синтаксис для установки пределов по осям\n",
    "plt.xlim(0, s_end)\n",
    "plt.ylim(0, h_end+11);\n"
   ]
  },
  {
   "cell_type": "markdown",
   "id": "7813f5e6-2422-4b8a-94fe-f99be38181a0",
   "metadata": {},
   "source": [
    "# Задание 1.2. Определение момента времени касания телом земли"
   ]
  },
  {
   "cell_type": "markdown",
   "id": "968064fe-4326-4b2b-8902-37e735db09dc",
   "metadata": {},
   "source": [
    "## Выполнение Задания 1.2\n",
    "\n",
    "*Рассмотрим Подход 1* выполнения Задания 1.2.\n",
    "\n",
    "\n",
    "Для решения алгебраического уравнения $s_{y}(t) = 0$ воспользуемся функцией\n",
    "`solve` из модуля `sympy` , которая предназначена для решения алгебраических\n",
    "уравнений и систем уравнений. Для выполнения функции `solve` предварительно с\n",
    "помощью функции `symbols` необходимо создать **символьную переменную**,\n",
    "относительно которой будет определено уравнение.\n"
   ]
  },
  {
   "cell_type": "code",
   "execution_count": 93,
   "id": "c9679b9e-d545-4803-8081-8db781e427bd",
   "metadata": {},
   "outputs": [
    {
     "data": {
      "text/plain": [
       "[-0.0637382309488101, 3.19970039267921]"
      ]
     },
     "execution_count": 93,
     "metadata": {},
     "output_type": "execute_result"
    }
   ],
   "source": [
    "t = sympy.symbols('t')\n",
    "result = sympy.solve(h_start+v0_y*t-g*t**2/2, t)\n",
    "result"
   ]
  },
  {
   "cell_type": "code",
   "execution_count": 94,
   "id": "1158eb3b-1339-434f-b065-eee8c5a45ee3",
   "metadata": {},
   "outputs": [
    {
     "data": {
      "text/latex": [
       "$\\displaystyle 3.19970039267921$"
      ],
      "text/plain": [
       "3.19970039267921"
      ]
     },
     "execution_count": 94,
     "metadata": {},
     "output_type": "execute_result"
    }
   ],
   "source": [
    "t_star_exact = result[-1]\n",
    "t_star_exact"
   ]
  },
  {
   "cell_type": "markdown",
   "id": "fa491c84-5a52-47bb-8efe-d21ff20572f8",
   "metadata": {},
   "source": [
    "$\\color{red}\\text{Сформулируем}$ спецификации функций `symbols` и `solve` из\n",
    "модуля `sympy`:\n",
    "Функция `symbols` используется для создания символьных переменных и их символических представлений. Спецификация:$sympy.symbols(names, **args)$\n",
    "Функция `solve` используется для решения уравнений и систем уравнений. Спецификация:\n",
    "$sympy.solve(equations, *symbols, **flags)$\n",
    "\n",
    "$\\color{red}\\text{Приведем}$ два примера решения:"
   ]
  },
  {
   "cell_type": "code",
   "execution_count": 95,
   "id": "9550f4b7-6d67-494d-82bd-a0f76ca2a6b6",
   "metadata": {},
   "outputs": [
    {
     "name": "stdout",
     "output_type": "stream",
     "text": [
      "[-2, 2]\n"
     ]
    }
   ],
   "source": [
    "from sympy import symbols, Eq, solve\n",
    "x = symbols('x')\n",
    "\n",
    "eq = Eq(x**2 - 4, 0)\n",
    "solution = solve(eq, x)\n",
    "print(solution)"
   ]
  },
  {
   "cell_type": "code",
   "execution_count": 96,
   "id": "e9030277-f5e2-432f-b24d-4ecdb27a3976",
   "metadata": {},
   "outputs": [
    {
     "name": "stdout",
     "output_type": "stream",
     "text": [
      "[-2*sqrt(2), 2*sqrt(2)]\n"
     ]
    }
   ],
   "source": [
    "eq = Eq(x**2 - 8, 0)\n",
    "solution = solve(eq, x)\n",
    "print(solution)"
   ]
  },
  {
   "cell_type": "markdown",
   "id": "5df8232e-6dd0-4156-b7fc-0b4197c1fc1b",
   "metadata": {},
   "source": [
    "# Задание 1.3. Построение секущей, касательной и нормали к графику функции\n",
    "## Выполнение Задания 1.3\n",
    "\n",
    "Подготовим необходимые данные для построения секущей прямой к траектории\n",
    "движения тела.\n",
    "\n",
    "Воспользуемся *векторно-параметрическим уравнением прямой* для заданной\n",
    "точки $p_{start}$ , лежащей на прямой, и заданного направляющего вектора $a$\n",
    "\n",
    "$p(t) = p_{start} + at$\n",
    "\n",
    "Направляющий вектор можно определить как $a = p_{end} - p_{start}$, где точка $p_{end}$ лежит на прямой и отлична от точки $p_{start}$\n",
    "\n",
    "Введем новые переменные для описания начальной точки $p_{start}$ и конечной точки $p_{end}$  через их координаты. Для новых переменных используем тип массив\n",
    "( `ndarray` ) из `numpy` . Представление координат точек в виде массивов иногда эффективнее, чем представление в виде списков, для дальнейшей работы с\n",
    "координатами.\n"
   ]
  },
  {
   "cell_type": "code",
   "execution_count": 97,
   "id": "3e7b6a89-a4dd-48da-9647-f38c0bb71f0a",
   "metadata": {},
   "outputs": [
    {
     "data": {
      "text/plain": [
       "(array([0., 1.]), array([4.98333333, 3.13994275]))"
      ]
     },
     "execution_count": 97,
     "metadata": {},
     "output_type": "execute_result"
    }
   ],
   "source": [
    "p_start = np.array([s_x_array[0],s_y_array[0]])\n",
    "p_end = np.array([s_x_array[-1],s_y_array[-1]])\n",
    "p_start, p_end\n"
   ]
  },
  {
   "cell_type": "markdown",
   "id": "50b8afa2-4466-4708-9dc5-01d2ad0897b4",
   "metadata": {},
   "source": [
    "Вычислим направляющий вектор:"
   ]
  },
  {
   "cell_type": "code",
   "execution_count": 98,
   "id": "fe3e7767-a2ae-4247-959e-b023ed165e16",
   "metadata": {},
   "outputs": [],
   "source": [
    "a = p_end-p_start\n"
   ]
  },
  {
   "cell_type": "markdown",
   "id": "10905bca-4098-46da-b1f9-ef68c127131e",
   "metadata": {},
   "source": [
    "Для построения графика прямой достаточно задания двух точек, лежащих на\n",
    "прямой:\n"
   ]
  },
  {
   "cell_type": "code",
   "execution_count": 99,
   "id": "edc8fa62-b411-4575-9097-b757809c4591",
   "metadata": {},
   "outputs": [],
   "source": [
    "p = [p_start + a*t for t in [-1, 2]]\n",
    "p = np.array(p)"
   ]
  },
  {
   "cell_type": "markdown",
   "id": "3afc131c-8af5-4a57-bcb5-aad999e51cde",
   "metadata": {},
   "source": [
    "Построим график траектории движения тела и график секущей прямой в одной\n",
    "графической области:\n"
   ]
  },
  {
   "cell_type": "code",
   "execution_count": 100,
   "id": "f351536a-fec2-4e88-bdd3-a5569ac389fc",
   "metadata": {},
   "outputs": [
    {
     "data": {
      "image/png": "[encoded data removed]",
      "text/plain": [
       "<Figure size 640x480 with 1 Axes>"
      ]
     },
     "metadata": {},
     "output_type": "display_data"
    }
   ],
   "source": [
    "fig = plt.figure()\n",
    "plt.plot(s_x_array,s_y_array,'b-',lw=5)\n",
    "plt.plot(p[:,0],p[:,1],'--',color='red',lw=1) # обратите внимание не специальную\n",
    "plt.xlabel('x (m)'); plt.ylabel('y (m)')\n",
    "plt.axis([-5, s_end+5, 0, h_end+11]);\n"
   ]
  },
  {
   "cell_type": "markdown",
   "id": "5fc05a30-63d9-480f-89bb-de9ee2af9e22",
   "metadata": {},
   "source": [
    "$\\color{red}\\text{Построим}$ график касательной прямой к траектории движения\n",
    "тела в одной графической области с траекторией движения и секущей прямой в точке серединке по x"
   ]
  },
  {
   "cell_type": "code",
   "execution_count": 101,
   "id": "afcfeec9-bca7-4ede-b664-a8514348acbe",
   "metadata": {},
   "outputs": [],
   "source": [
    "\n",
    "\n",
    "point_index = len(s_x_array) // 2\n",
    "x_start = s_x_array[point_index]\n",
    "y_start = s_y_array[point_index]"
   ]
  },
  {
   "cell_type": "code",
   "execution_count": 102,
   "id": "de3e9367-e1c8-4a89-826c-bf8dad372051",
   "metadata": {},
   "outputs": [],
   "source": [
    "\n",
    "k = (v0_y - g * t_array[point_index])"
   ]
  },
  {
   "cell_type": "code",
   "execution_count": 103,
   "id": "012a83ed-0061-48b3-afca-75bcadaa355e",
   "metadata": {},
   "outputs": [],
   "source": [
    "_x = np.linspace(-5, 15, 100)\n",
    "_y = k * (_x - x_start) + y_start"
   ]
  },
  {
   "cell_type": "code",
   "execution_count": 104,
   "id": "62b748dc-1526-4db4-9200-61acfc8b82c3",
   "metadata": {},
   "outputs": [
    {
     "data": {
      "text/plain": [
       "[<matplotlib.lines.Line2D at 0x1724616f890>]"
      ]
     },
     "execution_count": 104,
     "metadata": {},
     "output_type": "execute_result"
    },
    {
     "data": {
      "image/png": "[encoded data removed]",
      "text/plain": [
       "<Figure size 640x480 with 1 Axes>"
      ]
     },
     "metadata": {},
     "output_type": "display_data"
    }
   ],
   "source": [
    "fig = plt.figure()\n",
    "plt.plot(s_x_array, s_y_array, 'b-', lw=0.5)\n",
    "plt.plot(p[:, 0], p[:, 1], '--', color='red', lw=1)\n",
    "plt.plot(_x, _y, '--', lw=2)\n"
   ]
  },
  {
   "cell_type": "markdown",
   "id": "25e00d10-287c-4562-8860-38690c0252ae",
   "metadata": {},
   "source": [
    " вычисляли угловой коэффициент \n",
    "𝑘\n",
    " для касательной прямой в одной из точек траектории как производную Sy по t в точке касания.\n",
    " Sy = h0 + v0yt + gt^2/2 \n",
    " Sy' = v0y + gt - это и есть наш коэф"
   ]
  },
  {
   "cell_type": "markdown",
   "id": "2716d886-7106-46a3-bb99-b8abff8ee3e9",
   "metadata": {},
   "source": [
    "$\\color{red}\\text{Сформулируем}$  уравнение нормальной прямой к\n",
    "траектории движения тела в момент времени $t=0$ , используя свойство\n",
    "перпендикуляртности каксательной и нормальной прямых.\n",
    "\n",
    "Используя свойство перпендикулярности, найдем угловой коэффициент нормальной прямой \n",
    "\n",
    ":$k касательной * k нормальной = -1$\n",
    "\n",
    "\n",
    "$k касат.$ в момент времени t = 0 ранво v0y\n",
    "из этого:\n",
    "\n",
    "$kнормальной = -1/v0y$\n",
    "\n",
    "tеперь мы можем записать уравнение нормальной прямой в момент времени \n",
    "𝑡\n",
    "= 0 \n",
    "\n",
    ". $y = -1/v0y * x0 + h0$"
   ]
  },
  {
   "cell_type": "code",
   "execution_count": 105,
   "id": "a1c91f63-4d66-4f6f-9393-e95d8f33cc5b",
   "metadata": {},
   "outputs": [],
   "source": [
    "normal_x = np.linspace(-5, 15, 100)  \n",
    "normal_y = - (1/ v0_y) * normal_x + h_start"
   ]
  },
  {
   "cell_type": "code",
   "execution_count": 106,
   "id": "b5a0a322-be57-4a4a-9b78-e8f06e7522f8",
   "metadata": {},
   "outputs": [
    {
     "data": {
      "text/plain": [
       "[<matplotlib.lines.Line2D at 0x172326f1f90>]"
      ]
     },
     "execution_count": 106,
     "metadata": {},
     "output_type": "execute_result"
    },
    {
     "data": {
      "image/png": "[encoded data removed]",
      "text/plain": [
       "<Figure size 640x480 with 1 Axes>"
      ]
     },
     "metadata": {},
     "output_type": "display_data"
    }
   ],
   "source": [
    "fig = plt.figure()\n",
    "plt.plot(s_x_array, s_y_array, 'b-', lw=0.5)\n",
    "plt.plot(p[:, 0], p[:, 1], '--', color='red', lw=1)\n",
    "plt.plot(_x, _y, '--', lw=2)\n",
    "plt.plot(normal_x, normal_y, '--', lw=2)"
   ]
  },
  {
   "cell_type": "markdown",
   "id": "56d9c58a-d3d8-45a4-977f-884146167bc1",
   "metadata": {},
   "source": [
    "# Задание 1.4. Построение графиков функций\n",
    "\n"
   ]
  },
  {
   "cell_type": "markdown",
   "id": "e9d297a6",
   "metadata": {},
   "source": [
    "# Вариант 2\n",
    "# a)\n"
   ]
  },
  {
   "cell_type": "code",
   "execution_count": 122,
   "id": "0cb18abf",
   "metadata": {},
   "outputs": [
    {
     "data": {
      "text/plain": [
       "Text(0.5, 1.0, ' розa')"
      ]
     },
     "execution_count": 122,
     "metadata": {},
     "output_type": "execute_result"
    },
    {
     "data": {
      "image/png": "[encoded data removed]",
      "text/plain": [
       "<Figure size 640x480 with 1 Axes>"
      ]
     },
     "metadata": {},
     "output_type": "display_data"
    }
   ],
   "source": [
    "a = 0.1\n",
    "m = 3\n",
    "n = 7\n",
    "\n",
    "phi = np.linspace(0, 2 * np.pi, 1000)\n",
    "rho = a * np.sin((m / n) * phi)\n",
    "\n",
    "\n",
    "plt.polar(phi, rho)\n",
    "plt.title(\" розa\")\n"
   ]
  },
  {
   "cell_type": "markdown",
   "id": "90eff273",
   "metadata": {},
   "source": [
    "# б)\n"
   ]
  },
  {
   "cell_type": "code",
   "execution_count": 125,
   "id": "78eca741",
   "metadata": {},
   "outputs": [
    {
     "data": {
      "text/plain": [
       "[<matplotlib.lines.Line2D at 0x172355dac10>]"
      ]
     },
     "execution_count": 125,
     "metadata": {},
     "output_type": "execute_result"
    },
    {
     "data": {
      "image/png": "[encoded data removed]",
      "text/plain": [
       "<Figure size 640x480 with 1 Axes>"
      ]
     },
     "metadata": {},
     "output_type": "display_data"
    }
   ],
   "source": [
    "t = np.linspace(-1, 1, 20)\n",
    "x = np.sqrt(1 - t**2)\n",
    "y = np.tan(np.sqrt(1 + t))\n",
    "plt.plot(x, y)"
   ]
  },
  {
   "cell_type": "markdown",
   "id": "3013daf1-078d-4eb1-ba2f-e57814228b76",
   "metadata": {},
   "source": [
    "# Контрольные вопросы"
   ]
  },
  {
   "cell_type": "markdown",
   "id": "d694797b-df2f-486f-ad66-7109d1989de3",
   "metadata": {},
   "source": [
    "## ЛБ01 Часть 1. Введение в язык программирования Python"
   ]
  },
  {
   "cell_type": "markdown",
   "id": "c17638c8-3021-4137-9872-f1c9a9159db9",
   "metadata": {},
   "source": [
    "# 1. \n",
    "Основателем языка программирования Python является Гвидо ван Россум. Он начал разрабатывать Python в конце 1980-х годов, а первый релиз состоялся в феврале 1991 года. Разработка Python началась в Центре математики и информатики (CWI) в Нидерландах.\n",
    "\n",
    "На сегодняшний день Python занимает высокие позиции в рейтингах использования языков программирования. В 2023 году он вошел в топ-3 самых популярных языков программирования, уступая только JavaScript и TypeScript. В 2025 году Python продолжает удерживать лидирующие позиции, оставаясь одним из самых востребованных языков программирования.\n",
    "\n",
    "# 2.\n",
    "~Простота и читаемость кода: Python отличается лаконичным и понятным синтаксисом, что упрощает изучение и работу с ним.\n",
    "\n",
    "~Масштабируемость и гибкость: Подходит для создания как небольших скриптов, так и крупных проектов, поддерживающих масштабирование.\n",
    "\n",
    "~Большое сообщество и поддержка: Обширное сообщество пользователей и разработчиков, доступность множества библиотек и фреймворков.\n",
    "\n",
    "~Межплатформенность: Python работает на большинстве операционных систем, включая Windows, macOS и Linux.\n",
    "\n",
    "~Поддержка интеграции: Легко интегрируется с другими языками программирования и технологиями, такими как C, C++, Java, .NET.\n",
    "\n",
    "~Высокая производительность разработки: Позволяет быстро создавать и тестировать прототипы, благодаря динамической типизации и интерпретируемому характеру.\n",
    "\n",
    "~Использование в различных областях: Применяется в веб-разработке, анализе данных, научных исследованиях, машинном обучении, автоматизации и многом другом.\n",
    "\n",
    "~Активное развитие и обновления: Python постоянно развивается и обновляется, получая новые возможности и улучшения.\n",
    "\n",
    "# 3. \n",
    "Фраза «Python поддерживает несколько парадигм программирования» означает, что Python можно использовать для программирования в различных стилях, которые имеют свои особенности и преимущества. Вот краткая характеристика каждой из основных парадигм:\n",
    "\n",
    "Императивное программирование:\n",
    "\n",
    "Описание: Программа описывает последовательность инструкций, изменяющих состояние системы.\n",
    "\n",
    "Пример: Циклы for, while, оператор if.\n",
    "\n",
    "Объектно-ориентированное программирование (ООП):\n",
    "\n",
    "Описание: Программа организована вокруг объектов, которые являются экземплярами классов и имеют состояние (атрибуты) и поведение (методы).\n",
    "\n",
    "Пример: Классы и объекты, наследование, полиморфизм.\n",
    "\n",
    "Функциональное программирование:\n",
    "\n",
    "Описание: Программа состоит из функций, которые принимают аргументы и возвращают значения, не изменяя состояние.\n",
    "\n",
    "Пример: Лямбда-функции, функции map, filter, reduce.\n",
    "\n",
    "Процедурное программирование:\n",
    "\n",
    "Описание: Программа организована как набор процедур или подпрограмм, каждая из которых выполняет определенную задачу.\n",
    "\n",
    "Пример: Определение и вызов функций, использование процедур.\n",
    "\n",
    "Событийно-ориентированное программирование:\n",
    "\n",
    "Описание: Программа реагирует на события, такие как действия пользователя или сообщения от других программ.\n",
    "\n",
    "Пример: Обработчики событий в GUI-приложениях, веб-приложениях.\n",
    "\n",
    "Асинхронное программирование:\n",
    "\n",
    "Описание: Программа выполняет операции, не блокируя основной поток выполнения, используя асинхронные функции и конструкции.\n",
    "\n",
    "Пример: async и await, асинхронные библиотеки и фреймворки.\n",
    "\n",
    "# 4. \n",
    "Фраза \"Python является интерпретируемым языком программирования\" означает, что код программы на Python выполняется интерпретатором, а не компилируется в машинный код перед выполнением.\n",
    "# 5. \n",
    "Один из основных недостатков языка Python — его относительно низкая скорость выполнения по сравнению с компилируемыми языками программирования, такими как C или C++. Поскольку Python является интерпретируемым языком, его код выполняется медленнее, особенно в задачах, требующих высокой производительности и быстродействия\n",
    "# 6. \n",
    "Python используется в различных областях благодаря своей универсальности и широкому спектру библиотек. Вот несколько основных областей применения Python:\n",
    "\n",
    "Веб-разработка:\n",
    "\n",
    "Django и Flask — популярные веб-фреймворки на Python.\n",
    "\n",
    "Примеры: Instagram, Spotify, Reddit.\n",
    "\n",
    "Научные исследования и анализ данных:\n",
    "\n",
    "Библиотеки: NumPy, Pandas, SciPy, Matplotlib.\n",
    "\n",
    "Примеры: NASA, CERN.\n",
    "\n",
    "Машинное обучение и искусственный интеллект:\n",
    "\n",
    "Библиотеки: TensorFlow, Keras, Scikit-learn.\n",
    "\n",
    "Примеры: Google, Netflix, Uber.\n",
    "\n",
    "Автоматизация и скрипты:\n",
    "\n",
    "Использование для автоматизации задач и написания скриптов.\n",
    "\n",
    "Примеры: Dropbox, Quora.\n",
    "\n",
    "# 7.\n",
    "Структура программы на языке Python обычно состоит из следующих основных компонентов:\n",
    "~ Импорт модулей\n",
    "~ Определение функций\n",
    "~ Определение классов\n",
    "~ Основная логика программы\n",
    "~Обработка ошибок\n",
    "# 8.\n",
    "Особенности языка Python\n",
    " ~ точки с запятой не нужны\n",
    " ~ вместо фигурных скобок используются отступы\n",
    "# 9. \n",
    "PEP 8 расшифровывается как \"Python Enhancement Proposal\" (Предложение по улучшению Python) номер 8. Это руководство по стилю кода на языке Python, созданное для улучшения читаемости кода и содействия консистентности кода между разными проектами.\n",
    "     Вот некоторые из основных соглашений, прописанных в PEP 8:\n",
    "\n",
    "Отступы:\n",
    "\n",
    "Используйте 4 пробела для отступов. Не используйте табуляции.\n",
    "\n",
    "Максимальная длина строки:\n",
    "\n",
    "Ограничьте длину строк до 79 символов. Для строк документации (docstrings) и комментариев – до 72 символов.\n",
    "\n",
    "# 10. \n",
    "Свободное ПО: Это означает, что JupyterLab можно свободно использовать, распространять и изменять. Это программное обеспечение доступно для всех без каких-либо лицензионных ограничений.\n",
    "\n",
    "Открытый код: Исходный код JupyterLab доступен для общественности. Любой желающий может просматривать, изменять и вносить вклад в разработку этого ПО. Это способствует развитию сообщества и улучшению качества программного обеспечения.\n"
   ]
  },
  {
   "cell_type": "markdown",
   "id": "233d9305-30a9-4d45-b622-4541df3bf64f",
   "metadata": {},
   "source": [
    "## ЛБ01 Часть 2. Работа с ячейками в документе .ipynb"
   ]
  },
  {
   "cell_type": "markdown",
   "id": "4cb0ae1a-61d7-41d7-97d4-a4615c2ffdaa",
   "metadata": {},
   "source": [
    "# 1. \n",
    "Ячейка кода – это сущность документа .ipynb, которая содержит программный код, предназначена для выполнения и анализа кода, результат выполнения ячейки отображается непосредственно под ячейкой в виде вывода (например, значения переменных, графики, ошибки и т.д.).\n",
    "   Ячейка редактирования (она же текстовая ячейка, markdown-ячейка) – это сущность документа .ipynb, которая содержит текст, написанный с использованием языка разметки Markdown, предназначена для добавления описаний, комментариев, заголовков и других текстовых элементов, результат выполнения ячейки отображается в виде отформатированного текста.\n",
    "# 2. \n",
    "В командном режиме Jupyter Notebook (также известном как \"Command Mode\") можно выполнять различные действия с ячейками. Вот некоторые из них:\n",
    "\n",
    "Навигация:\n",
    "\n",
    "Перемещение вверх и вниз по ячейкам с помощью стрелок вверх (↑) и вниз (↓).\n",
    "\n",
    "Редактирование:\n",
    "\n",
    "Вход в режим редактирования ячейки с помощью клавиши Enter.\n",
    "\n",
    "Выход из режима редактирования ячейки и возвращение в командный режим с помощью клавиши Esc.\n",
    "\n",
    "Создание новых ячеек:\n",
    "\n",
    "Создание новой ячейки выше текущей с помощью A (от слова \"Above\").\n",
    "\n",
    "Создание новой ячейки ниже текущей с помощью B (от слова \"Below\").\n",
    "\n",
    "Удаление ячеек:\n",
    "\n",
    "Удаление выбранной ячейки с помощью D дважды (DD).\n",
    "\n",
    "Копирование и вставка ячеек:\n",
    "\n",
    "Копирование текущей ячейки с помощью C.\n",
    "\n",
    "Вставка скопированной ячейки ниже текущей с помощью V.\n",
    "\n",
    "Вырезание и вставка ячеек:\n",
    "\n",
    "Вырезание текущей ячейки с помощью X.\n",
    "\n",
    "Вставка вырезанной ячейки ниже текущей с помощью V.\n",
    "\n",
    "Перемещение ячеек:\n",
    "\n",
    "Перемещение текущей ячейки вверх с помощью Shift + K.\n",
    "\n",
    "Перемещение текущей ячейки вниз с помощью Shift + J.\n",
    "\n",
    "Изменение типа ячейки:\n",
    "\n",
    "Преобразование текущей ячейки в ячейку кода с помощью Y.\n",
    "\n",
    "Преобразование текущей ячейки в ячейку Markdown с помощью M.\n",
    "\n",
    "**Запуск ячеек\n",
    "\n",
    "# 3. \n",
    "В документах .ipynb Jupyter Notebook используются два основных языка разметки для форматирования текста:\n",
    "\n",
    "Markdown\n",
    "\n",
    "Назначение: Markdown используется для создания хорошо оформленных текстовых блоков, которые могут включать заголовки, списки, ссылки, изображения и даже встроенный код. Этот язык разметки позволяет легко структурировать информацию и делать заметки более читабельными. Благодаря простоте синтаксиса, его можно использовать без значительных усилий.\n",
    "\n",
    "LaTeX\n",
    "\n",
    "Назначение: LaTeX в Jupyter Notebook используется для написания сложных математических формул и уравнений. Этот язык разметки позволяет точно и красиво форматировать математический контент, который часто необходим в научных и инженерных документах. LaTeX особенно полезен для демонстрации подробных математических выражений, графиков и таблиц.\n",
    "# A)\n",
    "Сделать ячейку документа активной:\n",
    "\n",
    "Нажмите на ячейку, чтобы сделать её активной.\n",
    "\n",
    "Создать ячейку выше активной:\n",
    "\n",
    "A\n",
    "\n",
    "Создать ячейку ниже активной:\n",
    "\n",
    "B\n",
    "\n",
    "Установить для активной ячейки тип Code:\n",
    "\n",
    "Y\n",
    "\n",
    "Установить для активной ячейки тип Markdown:\n",
    "\n",
    "M\n",
    "\n",
    "Активную ячейку перевести в режим редактирования:\n",
    "\n",
    "Enter\n",
    "\n",
    "Активную ячейку перевести в командный режим:\n",
    "\n",
    "Esc\n",
    "\n",
    "Копировать активную ячейку в буфер обмена:\n",
    "\n",
    "C\n",
    "\n",
    "Вставить скопированную ячейку из буфера:\n",
    "\n",
    "V\n",
    "\n",
    "Вырезать активную ячейку:\n",
    "\n",
    "X\n",
    "\n",
    "Удалить активную ячейку:\n",
    "\n",
    "D, D (быстро нажать D дважды)\n",
    "\n",
    "Сделать активными несколько подряд стоящих ячеек:\n",
    "\n",
    "Удерживая клавишу Shift, нажимайте на ячейки, которые хотите выделить.\n",
    "\n",
    "Объединить активные ячейки:\n",
    "\n",
    "Shift + M\n",
    "\n",
    "Разделить активную ячейку по курсору:\n",
    "\n",
    "Ctrl + Shift + -\n",
    "\n",
    "Отменить последнее действие с ячейками:\n",
    "\n",
    "Z\n",
    "# Б)\n",
    "Создание заголовка первого уровня:\n",
    "\n",
    "\n",
    "# Заголовок первого уровня\n",
    "Создание заголовка второго уровня:\n",
    "\n",
    "## Заголовок второго уровня\n",
    "Создание заголовка уровня n: (для уровня n используется n символов #)\n",
    "\n",
    "\n",
    "### Заголовок третьего уровня\n",
    "#### Заголовок четвертого уровня\n",
    "##### Заголовок пятого уровня\n",
    "###### Заголовок шестого уровня\n",
    "Создание ненумерованного списка:\n",
    "\n",
    "\n",
    "- Первый элемент\n",
    "- Второй элемент\n",
    "  - Подэлемент\n",
    "* Третий элемент\n",
    "Выделение текста курсивом:\n",
    "\n",
    "\n",
    "*Курсив* или _Курсив_\n",
    "Выделение текста жирным шрифтом:\n",
    "\n",
    "\n",
    "**Жирный текст** или __Жирный текст__\n",
    "Создание математического выражения без перехода на новую строку:\n",
    "\n",
    "\n",
    "\\(y = mx + b\\)\n",
    "Создание математического выражения с переходом на новую строку:\n",
    "\n",
    "\n",
    "$$\n",
    "y = mx + b\n",
    "$$\n",
    "Отображение последовательности символом указанным цветом: Для этого можно использовать HTML внутри Markdown.\n",
    "\n",
    "\n",
    "<span style=\"color: red;\">текст</span>"
   ]
  },
  {
   "cell_type": "markdown",
   "id": "a71d1e90-aafe-49fe-9977-9898c9cd4120",
   "metadata": {},
   "source": [
    "# ЛБ01 Часть 3. Использование некоторых модулей и расширений\n"
   ]
  },
  {
   "cell_type": "markdown",
   "id": "b5d506a7-bc3d-4e26-8aa1-c16d12a3eb8b",
   "metadata": {},
   "source": [
    "# 1.\n",
    "Модуль, который содержит математические функции в Python, называется math. Чтобы его использовать, нужно подключить его с помощью команды import. Вот пример того, как это сделать:\n"
   ]
  },
  {
   "cell_type": "code",
   "execution_count": 57,
   "id": "839998d5-bb0b-4142-944b-9f9917410f48",
   "metadata": {},
   "outputs": [],
   "source": [
    "import math"
   ]
  },
  {
   "cell_type": "markdown",
   "id": "c4206867-ad84-4698-a803-4e64263bca4c",
   "metadata": {},
   "source": [
    "# 2."
   ]
  },
  {
   "cell_type": "code",
   "execution_count": 58,
   "id": "be4d349a-022f-415f-ac6d-a53feff01ac0",
   "metadata": {},
   "outputs": [
    {
     "name": "stdout",
     "output_type": "stream",
     "text": [
      "Синус угла в 45 градусов (π/4 радиана) равен: 0.7071067811865476\n"
     ]
    }
   ],
   "source": [
    "\n",
    "import math\n",
    "a = math.pi / 4 \n",
    "\n",
    "\n",
    "sina = math.sin(a)\n",
    "\n",
    "\n",
    "print(\"Синус угла в 45 градусов (π/4 радиана) равен:\", sina)\n"
   ]
  },
  {
   "cell_type": "markdown",
   "id": "13d1b93a-992a-4588-a055-ab592a62b6c0",
   "metadata": {},
   "source": [
    "# 3."
   ]
  },
  {
   "cell_type": "code",
   "execution_count": 59,
   "id": "f9aa26f6-77e3-4ecd-aa83-6933f706b704",
   "metadata": {},
   "outputs": [],
   "source": [
    "import matplotlib.pyplot as plt"
   ]
  },
  {
   "cell_type": "markdown",
   "id": "3df782d6-a364-4a25-a789-683c70aeeb53",
   "metadata": {},
   "source": [
    "# 4."
   ]
  },
  {
   "cell_type": "markdown",
   "id": "650a78ce-c22c-4fa7-b4c0-18d577fdd3b0",
   "metadata": {},
   "source": [
    "`numpy`\n"
   ]
  },
  {
   "cell_type": "markdown",
   "id": "69fc0d24-866a-45dc-989d-30c9be5f130a",
   "metadata": {},
   "source": [
    "# 5."
   ]
  },
  {
   "cell_type": "markdown",
   "id": "20f3617a-ccac-4024-8d8c-7169436ee707",
   "metadata": {},
   "source": [
    "Модуль, содержащий значения физических констант в Python, называется `constants`. Этот модуль находится в пакете `scipy`."
   ]
  },
  {
   "cell_type": "markdown",
   "id": "ab0253f6-a62f-481e-9dee-226f1e479e03",
   "metadata": {},
   "source": [
    "# 6."
   ]
  },
  {
   "cell_type": "code",
   "execution_count": 60,
   "id": "62dfddcb-1d15-41a4-aa08-ca549233ebb0",
   "metadata": {},
   "outputs": [
    {
     "name": "stdout",
     "output_type": "stream",
     "text": [
      "Ускорение свободного падения: 9.80665 м/с²\n"
     ]
    }
   ],
   "source": [
    "\n",
    "from scipy import constants\n",
    "\n",
    "\n",
    "g = constants.g\n",
    "\n",
    "\n",
    "print(\"Ускорение свободного падения:\", g, \"м/с²\")\n"
   ]
  },
  {
   "cell_type": "markdown",
   "id": "95f64254-5fd2-4b92-9195-cef6efebc6fb",
   "metadata": {},
   "source": [
    "# 7."
   ]
  },
  {
   "cell_type": "markdown",
   "id": "d4929958-c802-4718-a634-58fc235093d7",
   "metadata": {},
   "source": [
    "Модуль `sympy` предназначен для выполнения символьных вычислений в Python. Он позволяет решать математические задачи символически, а не численно, что особенно полезно для алгебраических преобразований, решения уравнений, интегрирования, дифференцирования и упрощения выражений."
   ]
  },
  {
   "cell_type": "markdown",
   "id": "a27d63be-1941-4cab-9a30-41e0598ccf18",
   "metadata": {},
   "source": [
    "# 8."
   ]
  },
  {
   "cell_type": "code",
   "execution_count": 61,
   "id": "5544e7a1-2de4-4c40-b854-6d50cfcdf5df",
   "metadata": {},
   "outputs": [
    {
     "name": "stdout",
     "output_type": "stream",
     "text": [
      "Решения уравнения: [-4, 1]\n"
     ]
    }
   ],
   "source": [
    "\n",
    "import sympy as sp\n",
    "\n",
    "\n",
    "x = sp.symbols('x')\n",
    "\n",
    "\n",
    "equation = sp.Eq(x**2 + 3*x - 4, 0)\n",
    "\n",
    "\n",
    "solutions = sp.solve(equation, x)\n",
    "\n",
    "\n",
    "print(\"Решения уравнения:\", solutions)\n"
   ]
  },
  {
   "cell_type": "markdown",
   "id": "fb8a9beb-5a42-43ea-8278-806a36294d1b",
   "metadata": {},
   "source": [
    "# ЛБ01 Часть 4. Использование функций графики"
   ]
  },
  {
   "cell_type": "markdown",
   "id": "d3af6091-8372-4748-b587-537370e48c74",
   "metadata": {},
   "source": [
    "# 1."
   ]
  },
  {
   "cell_type": "markdown",
   "id": "f1e11af5-d401-43dc-b81b-3a01cfa2aa07",
   "metadata": {},
   "source": [
    "Cпецификация:"
   ]
  },
  {
   "cell_type": "markdown",
   "id": "240fba83-9d92-4200-b26d-033e1b54bbf3",
   "metadata": {},
   "source": [
    "range(start, stop[, step])\n",
    "\n",
    "start (необязательный) - начальное значение последовательности. По умолчанию равно 0.\n",
    "\n",
    "stop (обязательный) - конечное значение последовательности (не включается в последовательность).\n",
    "\n",
    "step (необязательный) - шаг между значениями в последовательности. По умолчанию равен 1.\n",
    "\n",
    "Примеры использования функции `range`:\n"
   ]
  },
  {
   "cell_type": "code",
   "execution_count": 62,
   "id": "ae06c45f-0c16-4cef-b4ed-d1228680a3fd",
   "metadata": {},
   "outputs": [
    {
     "name": "stdout",
     "output_type": "stream",
     "text": [
      "[0, 1, 2, 3, 4]\n"
     ]
    }
   ],
   "source": [
    "print(list(range(5)))\n",
    "\n"
   ]
  },
  {
   "cell_type": "code",
   "execution_count": 63,
   "id": "7ddee7d1-f083-498c-a30d-127735c7edba",
   "metadata": {},
   "outputs": [
    {
     "name": "stdout",
     "output_type": "stream",
     "text": [
      "[2, 3, 4, 5, 6]\n"
     ]
    }
   ],
   "source": [
    "print(list(range(2, 7)))"
   ]
  },
  {
   "cell_type": "code",
   "execution_count": 64,
   "id": "4d87c70e-2f4c-43a8-986a-23c3302883f2",
   "metadata": {},
   "outputs": [
    {
     "name": "stdout",
     "output_type": "stream",
     "text": [
      "[1, 3, 5, 7, 9]\n"
     ]
    }
   ],
   "source": [
    "print(list(range(1, 11, 2)))"
   ]
  },
  {
   "cell_type": "markdown",
   "id": "6912b3ad-5845-466e-8797-6f78c9f4b030",
   "metadata": {},
   "source": [
    "# 2.\n"
   ]
  },
  {
   "cell_type": "markdown",
   "id": "4310d6e7-b376-4d34-b5f9-1e51d05a0555",
   "metadata": {},
   "source": [
    "Функция `numpy.arange` используется для создания одномерного массива с равномерно разнесенными значениями в заданном диапазоне. Вот ее спецификация:\n",
    "numpy.arange([start, ]stop, [step, ]dtype=None, like=None)\n",
    "\n",
    "\n",
    "start (необязательный) - начальное значение последовательности. По умолчанию равно 0.\n",
    "\n",
    "stop (обязательный) - конечное значение последовательности (не включается в массив).\n",
    "\n",
    "step (необязательный) - шаг между значениями в последовательности. По умолчанию равен 1.\n",
    "\n",
    "dtype (необязательный) - тип данных элементов массива. Если не указан, тип будет определен автоматически.\n",
    "\n",
    "like (необязательный) - массив, подобный которому нужно создать.\n",
    "\n",
    "*Примеры*:"
   ]
  },
  {
   "cell_type": "code",
   "execution_count": 65,
   "id": "2df66826-afa4-4fb3-9e69-c8c5d61044e8",
   "metadata": {},
   "outputs": [
    {
     "name": "stdout",
     "output_type": "stream",
     "text": [
      "[ 0  1  2  3  4  5  6  7  8  9 10 11 12 13 14 15 16 17 18 19 20 21 22 23\n",
      " 24 25 26 27 28 29 30 31 32 33 34 35 36 37 38 39 40 41 42 43 44 45 46 47\n",
      " 48 49 50 51 52 53 54 55 56 57 58 59 60 61 62 63 64 65 66 67 68 69 70 71\n",
      " 72 73 74 75 76 77 78 79 80 81 82 83 84 85 86 87 88 89 90 91 92 93 94 95\n",
      " 96 97 98 99]\n"
     ]
    }
   ],
   "source": [
    "import numpy as np\n",
    "arr = np.arange(100)\n",
    "print(arr)"
   ]
  },
  {
   "cell_type": "code",
   "execution_count": 66,
   "id": "3798abe4-ba52-4631-b2dc-9c68086d2120",
   "metadata": {},
   "outputs": [
    {
     "name": "stdout",
     "output_type": "stream",
     "text": [
      "[37 38 39 40 41 42 43 44 45 46 47 48 49 50 51 52 53 54 55 56 57 58 59 60\n",
      " 61 62 63 64 65 66 67 68 69 70 71 72]\n"
     ]
    }
   ],
   "source": [
    "arr = np.arange(37, 73)\n",
    "print(arr)"
   ]
  },
  {
   "cell_type": "code",
   "execution_count": 67,
   "id": "e33b3888-8976-4674-9611-043a5b5329ab",
   "metadata": {},
   "outputs": [
    {
     "name": "stdout",
     "output_type": "stream",
     "text": [
      "[ 2  4  6  8 10 12 14]\n"
     ]
    }
   ],
   "source": [
    "arr = np.arange(2, 16, 2)\n",
    "print(arr)"
   ]
  },
  {
   "cell_type": "markdown",
   "id": "6c5ad819-3742-4114-a1d2-b8262a7d731e",
   "metadata": {},
   "source": [
    "# 3."
   ]
  },
  {
   "cell_type": "code",
   "execution_count": 68,
   "id": "119c6871-6abc-472f-9f50-31ed31f39725",
   "metadata": {},
   "outputs": [
    {
     "data": {
      "image/png": "[encoded data removed]",
      "text/plain": [
       "<Figure size 640x480 with 1 Axes>"
      ]
     },
     "metadata": {},
     "output_type": "display_data"
    }
   ],
   "source": [
    "import matplotlib.pyplot as plt\n",
    "\n",
    "\n",
    "x_list = [0, 1, 1, 2, 3, 5, 8, 13]\n",
    "y_list = [0, 1, 2, 3, 5, 7, 11, 13]\n",
    "\n",
    "#  график\n",
    "plt.plot(x_list, y_list, marker='o', linestyle='--',color='g',  label='неизвестная но крутая функция')\n",
    "\n",
    "#  оси\n",
    "plt.xlabel('x - Ось')\n",
    "plt.ylabel('y - Ось')\n",
    "\n",
    "# позывной\n",
    "plt.title('неизвестная но крутая функция')\n",
    "\n",
    "#  сетка\n",
    "plt.grid(True)\n",
    "\n",
    "# пределы\n",
    "plt.xlim([0, 20])\n",
    "plt.ylim([0, 20])\n",
    "\n",
    "# показываем\n",
    "plt.show()\n"
   ]
  },
  {
   "cell_type": "markdown",
   "id": "b3854742-8c3d-4642-a2fb-cb3912f0374d",
   "metadata": {},
   "source": [
    "# 4."
   ]
  },
  {
   "cell_type": "code",
   "execution_count": 69,
   "id": "9410c686-ec68-40db-9ee8-22fa35aa0a02",
   "metadata": {},
   "outputs": [
    {
     "data": {
      "text/plain": [
       "Text(0.5, 1.0, 'sin(alp)')"
      ]
     },
     "execution_count": 69,
     "metadata": {},
     "output_type": "execute_result"
    },
    {
     "data": {
      "image/png": "[encoded data removed]",
      "text/plain": [
       "<Figure size 640x480 with 1 Axes>"
      ]
     },
     "metadata": {},
     "output_type": "display_data"
    }
   ],
   "source": [
    "import matplotlib.pyplot as plt\n",
    "import numpy as np\n",
    "\n",
    "\n",
    "alp = np.linspace(0, 2 * np.pi, 100)\n",
    "r = np.sin(alp)\n",
    "\n",
    "\n",
    "plt.polar(alp, r, label='sin(alp)')\n",
    "\n",
    "plt.ylim([-1, 1])\n",
    "plt.xlim([0, 2 * np.pi])\n",
    "plt.title('sin(alp)')\n",
    "\n"
   ]
  },
  {
   "cell_type": "code",
   "execution_count": null,
   "id": "68791259-faee-4f26-8605-4c3294294ffb",
   "metadata": {},
   "outputs": [],
   "source": []
  }
 ],
 "metadata": {
  "kernelspec": {
   "display_name": "Python 3",
   "language": "python",
   "name": "python3"
  },
  "language_info": {
   "codemirror_mode": {
    "name": "ipython",
    "version": 3
   },
   "file_extension": ".py",
   "mimetype": "text/x-python",
   "name": "python",
   "nbconvert_exporter": "python",
   "pygments_lexer": "ipython3",
   "version": "3.13.2"
  }
 },
 "nbformat": 4,
 "nbformat_minor": 5
}
